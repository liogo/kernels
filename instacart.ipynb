{
  "cells": [
    {
      "cell_type": "markdown",
      "metadata": {
        "deletable": true,
        "editable": true
      },
      "source": [
        "\n**Introduction**\n\nHere is my first Kernel where I try to explore some basic information about Instacart dataset. As said in the description , The Dataset is anonymized and contains a sample of over 3 million grocery orders from more than 200,000 Instacart users. The goal  is then to predict which previously purchased products will be in a user’s next order.\nSo let's start some data exploration !!\n"
      ]
    },
    {
      "cell_type": "code",
      "execution_count": 1,
      "metadata": {
        "collapsed": false,
        "deletable": true,
        "editable": true
      },
      "outputs": [],
      "source": [
        "#import the needed librairies\n",
        "\n",
        "import numpy as np # linear algebra\n",
        "import pandas as pd # data processing, CSV file I/O (e.g. pd.read_csv)\n",
        "import matplotlib.pyplot as plt\n",
        "import seaborn as sns\n",
        "color = sns.color_palette()\n",
        "import warnings\n",
        "warnings.filterwarnings('ignore') #Supress unnecessary warnings for readability and cleaner presentation\n",
        "\n",
        "\n",
        "pd.set_option('display.float_format', lambda x: '%.4f' % x) #Limiting floats output to 4 decimal points\n",
        "%matplotlib inline\n",
        "\n",
        "from subprocess import check_output\n",
        "print(check_output([\"ls\", \"../input\"]).decode(\"utf8\"))\n"
      ]
    },
    {
      "cell_type": "code",
      "execution_count": 1,
      "metadata": {
        "collapsed": false,
        "deletable": true,
        "editable": true
      },
      "outputs": [],
      "source": [
        "#Now let's get and put the data in  pandas dataframe\n",
        "\n",
        "order_products_train = pd.read_csv('../input/order_products__train.csv')\n",
        "order_products_prior = pd.read_csv('../input/order_products__prior.csv')\n",
        "orders = pd.read_csv('../input/orders.csv')\n",
        "products = pd.read_csv('../input/products.csv')\n",
        "aisles = pd.read_csv('../input/aisles.csv')\n",
        "departments = pd.read_csv('../input/departments.csv')\n"
      ]
    },
    {
      "cell_type": "markdown",
      "metadata": {
        "deletable": true,
        "editable": true
      },
      "source": [
        "Firstly, let's explore  **order_products_train** and  **order_products_prior** file.   These files specify which products were purchased in each order. order_products__prior.csv contains previous order contents for all customers.\n"
      ]
    },
    {
      "cell_type": "code",
      "execution_count": 1,
      "metadata": {
        "collapsed": false,
        "deletable": true,
        "editable": true
      },
      "outputs": [],
      "source": [
        "print(\"The order_products_train size is : \", order_products_train.shape)\n",
        "print(\"The order_products_prior size is : \", order_products_prior.shape)\n"
      ]
    },
    {
      "cell_type": "code",
      "execution_count": 1,
      "metadata": {
        "collapsed": false,
        "deletable": true,
        "editable": true
      },
      "outputs": [],
      "source": [
        "#display first five rows.\n",
        "\n",
        "order_products_train.head(5)\n"
      ]
    },
    {
      "cell_type": "code",
      "execution_count": 1,
      "metadata": {
        "collapsed": false,
        "deletable": true,
        "editable": true
      },
      "outputs": [],
      "source": [
        "#display first five rows. \n",
        "\n",
        "order_products_prior.head(5)\n"
      ]
    },
    {
      "cell_type": "markdown",
      "metadata": {
        "deletable": true,
        "editable": true
      },
      "source": [
        "Now, let's concatenate them in the same order_products dataframe.\n"
      ]
    },
    {
      "cell_type": "code",
      "execution_count": 1,
      "metadata": {
        "collapsed": false,
        "deletable": true,
        "editable": true
      },
      "outputs": [],
      "source": [
        "order_products_all = pd.concat([order_products_train, order_products_prior], axis=0)\n",
        "\n",
        "print(\"The order_products_all size is : \", order_products_train.shape)\n"
      ]
    },
    {
      "cell_type": "code",
      "execution_count": 1,
      "metadata": {
        "collapsed": false,
        "deletable": true,
        "editable": true
      },
      "outputs": [],
      "source": [
        "#display first five rows.\n",
        "\n",
        "order_products_all.head(5)\n"
      ]
    },
    {
      "cell_type": "markdown",
      "metadata": {
        "deletable": true,
        "editable": true
      },
      "source": [
        "##Missing Data\n"
      ]
    },
    {
      "cell_type": "code",
      "execution_count": 1,
      "metadata": {
        "collapsed": false,
        "deletable": true,
        "editable": true
      },
      "outputs": [],
      "source": [
        "total = order_products_all.isnull().sum().sort_values(ascending=False)\n",
        "percent = (order_products_all.isnull().sum()/order_products_all.isnull().count()).sort_values(ascending=False)\n",
        "missing_data = pd.concat([total, percent], axis=1, keys=['Total Missing', 'Percent'])\n",
        "missing_data\n"
      ]
    },
    {
      "cell_type": "markdown",
      "metadata": {
        "deletable": true,
        "editable": true
      },
      "source": [
        "There is no missing data in order_products_all dataset. \n"
      ]
    },
    {
      "cell_type": "code",
      "execution_count": 1,
      "metadata": {
        "collapsed": false,
        "deletable": true,
        "editable": true
      },
      "outputs": [],
      "source": [
        "# Check the number of unique orders and unique products\n",
        "orders_Unique = len(set(order_products_all.order_id))\n",
        "products_Unique = len(set(order_products_all.product_id))\n",
        "print(\"There are %s orders for %s products\" %(orders_Unique, products_Unique))\n"
      ]
    },
    {
      "cell_type": "markdown",
      "metadata": {
        "deletable": true,
        "editable": true
      },
      "source": [
        "**Number of products that people usually order :**\n"
      ]
    },
    {
      "cell_type": "code",
      "execution_count": 1,
      "metadata": {
        "collapsed": false,
        "deletable": true,
        "editable": true
      },
      "outputs": [],
      "source": [
        "grouped = order_products_all.groupby(\"order_id\")[\"add_to_cart_order\"].aggregate(\"max\").reset_index()\n",
        "grouped = grouped.add_to_cart_order.value_counts()\n",
        "\n",
        "sns.set_style('whitegrid')\n",
        "f, ax = plt.subplots(figsize=(15, 12))\n",
        "plt.xticks(rotation='vertical')\n",
        "sns.barplot(grouped.index, grouped.values)\n",
        "\n",
        "plt.ylabel('Number of Orders', fontsize=13)\n",
        "plt.xlabel('Number of products added in order', fontsize=13)\n",
        "plt.show()\n"
      ]
    },
    {
      "cell_type": "markdown",
      "metadata": {
        "deletable": true,
        "editable": true
      },
      "source": [
        "We can observe that people usually order around 5 products.\n"
      ]
    },
    {
      "cell_type": "markdown",
      "metadata": {
        "deletable": true,
        "editable": true
      },
      "source": [
        "##Most ordered Products\n"
      ]
    },
    {
      "cell_type": "markdown",
      "metadata": {
        "deletable": true,
        "editable": true
      },
      "source": [
        "Now let's identify which products are ordered the most.\n"
      ]
    },
    {
      "cell_type": "code",
      "execution_count": 1,
      "metadata": {
        "collapsed": false,
        "deletable": true,
        "editable": true
      },
      "outputs": [],
      "source": [
        "grouped = order_products_all.groupby(\"product_id\")[\"reordered\"].aggregate({'Total_reorders': 'count'}).reset_index()\n",
        "grouped = pd.merge(grouped, products[['product_id', 'product_name']], how='left', on=['product_id'])\n",
        "grouped = grouped.sort_values(by='Total_reorders', ascending=False)[:10]\n",
        "grouped\n"
      ]
    },
    {
      "cell_type": "markdown",
      "metadata": {
        "deletable": true,
        "editable": true
      },
      "source": [
        "Banana is the most ordered product.\n"
      ]
    },
    {
      "cell_type": "code",
      "execution_count": 1,
      "metadata": {
        "collapsed": false,
        "deletable": true,
        "editable": true
      },
      "outputs": [],
      "source": [
        "grouped  = grouped.groupby(['product_name']).sum()['Total_reorders'].sort_values(ascending=False)\n",
        "\n",
        "sns.set_style('darkgrid')\n",
        "f, ax = plt.subplots(figsize=(12, 10))\n",
        "plt.xticks(rotation='vertical')\n",
        "sns.barplot(grouped.index, grouped.values)\n",
        "plt.ylabel('Number of Reorders', fontsize=13)\n",
        "plt.xlabel('Most ordered Products', fontsize=13)\n",
        "plt.show()\n"
      ]
    },
    {
      "cell_type": "markdown",
      "metadata": {
        "deletable": true,
        "editable": true
      },
      "source": [
        "###Reorder Frequency:\n"
      ]
    },
    {
      "cell_type": "markdown",
      "metadata": {
        "deletable": true,
        "editable": true
      },
      "source": [
        "Do people usually reorder the same previous ordered products ?\n"
      ]
    },
    {
      "cell_type": "code",
      "execution_count": 1,
      "metadata": {
        "collapsed": false,
        "deletable": true,
        "editable": true
      },
      "outputs": [],
      "source": [
        "grouped = order_products_all.groupby(\"reordered\")[\"product_id\"].aggregate({'Total_products': 'count'}).reset_index()\n",
        "grouped['Ratios'] = grouped[\"Total_products\"].apply(lambda x: x /grouped['Total_products'].sum())\n",
        "grouped\n"
      ]
    },
    {
      "cell_type": "markdown",
      "metadata": {
        "deletable": true,
        "editable": true
      },
      "source": [
        "**59 %** of ordered products are previously ordered by customers.\n"
      ]
    },
    {
      "cell_type": "code",
      "execution_count": 1,
      "metadata": {
        "collapsed": false,
        "deletable": true,
        "editable": true
      },
      "outputs": [],
      "source": [
        "grouped  = grouped.groupby(['reordered']).sum()['Total_products'].sort_values(ascending=False)\n",
        "\n",
        "sns.set_style('whitegrid')\n",
        "f, ax = plt.subplots(figsize=(5, 8))\n",
        "sns.barplot(grouped.index, grouped.values, palette='RdBu_r')\n",
        "plt.ylabel('Number of Products', fontsize=13)\n",
        "plt.xlabel('Reordered or Not Reordered', fontsize=13)\n",
        "plt.ticklabel_format(style='plain', axis='y')\n",
        "plt.show()\n"
      ]
    },
    {
      "cell_type": "markdown",
      "metadata": {
        "deletable": true,
        "editable": true
      },
      "source": [
        "##Most Reordered Products\n"
      ]
    },
    {
      "cell_type": "markdown",
      "metadata": {
        "deletable": true,
        "editable": true
      },
      "source": [
        "Which products are usually reordered ? \n"
      ]
    },
    {
      "cell_type": "code",
      "execution_count": 1,
      "metadata": {
        "collapsed": false,
        "deletable": true,
        "editable": true
      },
      "outputs": [],
      "source": [
        "grouped = order_products_all.groupby(\"product_id\")[\"reordered\"].aggregate({'reorder_sum': sum,'reorder_total': 'count'}).reset_index()\n",
        "grouped['reorder_probability'] = grouped['reorder_sum'] / grouped['reorder_total']\n",
        "grouped = pd.merge(grouped, products[['product_id', 'product_name']], how='left', on=['product_id'])\n",
        "grouped = grouped[grouped.reorder_total > 75].sort_values(['reorder_probability'], ascending=False)[:10]\n",
        "grouped\n"
      ]
    },
    {
      "cell_type": "code",
      "execution_count": 1,
      "metadata": {
        "collapsed": false,
        "deletable": true,
        "editable": true
      },
      "outputs": [],
      "source": [
        "grouped  = grouped.groupby(['product_name']).sum()['reorder_probability'].sort_values(ascending=False)\n",
        "\n",
        "sns.set_style('darkgrid')\n",
        "f, ax = plt.subplots(figsize=(12, 10))\n",
        "plt.xticks(rotation='vertical')\n",
        "sns.barplot(grouped.index, grouped.values)\n",
        "plt.ylim([0.85,0.95])\n",
        "plt.ylabel('Reorder probability', fontsize=13)\n",
        "plt.xlabel('Most reordered products', fontsize=12)\n",
        "plt.show()\n"
      ]
    },
    {
      "cell_type": "code",
      "execution_count": 1,
      "metadata": {
        "collapsed": false,
        "deletable": true,
        "editable": true
      },
      "outputs": [],
      "source": [
        "\n"
      ]
    },
    {
      "cell_type": "markdown",
      "metadata": {
        "deletable": true,
        "editable": true
      },
      "source": [
        "Let's explore now the orders.csv file\n"
      ]
    },
    {
      "cell_type": "code",
      "execution_count": 1,
      "metadata": {
        "collapsed": false,
        "deletable": true,
        "editable": true
      },
      "outputs": [],
      "source": [
        "print(\"The orders data size is : \", orders.shape)\n",
        "print(\"Columns in orders data  are : \",  orders.columns.values)\n"
      ]
    },
    {
      "cell_type": "code",
      "execution_count": 1,
      "metadata": {
        "collapsed": false,
        "deletable": true,
        "editable": true
      },
      "outputs": [],
      "source": [
        "#display first five rows of our dataset.\n",
        "\n",
        "orders.head(5)\n"
      ]
    },
    {
      "cell_type": "markdown",
      "metadata": {
        "deletable": true,
        "editable": true
      },
      "source": [
        "##Missing Data\n"
      ]
    },
    {
      "cell_type": "code",
      "execution_count": 1,
      "metadata": {
        "collapsed": false,
        "deletable": true,
        "editable": true
      },
      "outputs": [],
      "source": [
        "orders_na = (orders.isnull().sum() / len(orders)) * 100\n",
        "orders_na = orders_na.drop(orders_na[orders_na == 0].index).sort_values(ascending=False)\n",
        "orders_na\n"
      ]
    },
    {
      "cell_type": "markdown",
      "metadata": {
        "deletable": true,
        "editable": true
      },
      "source": [
        "The only feature with missing value is **days_since_prior_order** with **6.0276 %** missing\n"
      ]
    },
    {
      "cell_type": "markdown",
      "metadata": {
        "deletable": true,
        "editable": true
      },
      "source": [
        "##Time of orders\n"
      ]
    },
    {
      "cell_type": "markdown",
      "metadata": {
        "deletable": true,
        "editable": true
      },
      "source": [
        "Time at which people usually order products.\n"
      ]
    },
    {
      "cell_type": "markdown",
      "metadata": {
        "deletable": true,
        "editable": true
      },
      "source": [
        "**Hour of Order in a Day:** \n"
      ]
    },
    {
      "cell_type": "code",
      "execution_count": 1,
      "metadata": {
        "collapsed": false,
        "deletable": true,
        "editable": true
      },
      "outputs": [],
      "source": [
        "grouped = orders.groupby(\"order_id\")[\"order_hour_of_day\"].aggregate(\"sum\").reset_index()\n",
        "grouped = grouped.order_hour_of_day.value_counts()\n",
        "\n",
        "sns.set_style('darkgrid')\n",
        "f, ax = plt.subplots(figsize=(15, 10))\n",
        "sns.barplot(grouped.index, grouped.values)\n",
        "plt.ylabel('Number of orders', fontsize=13)\n",
        "plt.xlabel('Hours of order in a day', fontsize=13)\n",
        "plt.show()\n"
      ]
    },
    {
      "cell_type": "markdown",
      "metadata": {
        "deletable": true,
        "editable": true
      },
      "source": [
        "People mostly order between  8  and 19 (anonimyzed hours and probably between 8 a.m and 7 p.m.)\n"
      ]
    },
    {
      "cell_type": "markdown",
      "metadata": {
        "deletable": true,
        "editable": true
      },
      "source": [
        " **Days of Orders in a week:**\n"
      ]
    },
    {
      "cell_type": "code",
      "execution_count": 1,
      "metadata": {
        "collapsed": false,
        "deletable": true,
        "editable": true
      },
      "outputs": [],
      "source": [
        "grouped = orders.groupby(\"order_id\")[\"order_dow\"].aggregate(\"sum\").reset_index()\n",
        "grouped = grouped.order_dow.value_counts()\n",
        "\n",
        "f, ax = plt.subplots(figsize=(10, 10))\n",
        "sns.barplot(grouped.index, grouped.values)\n",
        "plt.ylabel('Number of orders', fontsize=13)\n",
        "plt.xlabel('Days of order in a week', fontsize=13)\n",
        "plt.show()\n"
      ]
    },
    {
      "cell_type": "markdown",
      "metadata": {
        "deletable": true,
        "editable": true
      },
      "source": [
        "People usually order at days 0 and 1 (anonimyzed days and probably the week end)\n"
      ]
    },
    {
      "cell_type": "markdown",
      "metadata": {
        "deletable": true,
        "editable": true
      },
      "source": [
        "**Period of Reorders:**\n"
      ]
    },
    {
      "cell_type": "code",
      "execution_count": 1,
      "metadata": {
        "collapsed": false,
        "deletable": true,
        "editable": true
      },
      "outputs": [],
      "source": [
        "grouped = orders.groupby(\"order_id\")[\"days_since_prior_order\"].aggregate(\"sum\").reset_index()\n",
        "grouped = grouped.days_since_prior_order.value_counts()\n",
        "\n",
        "from matplotlib.ticker import FormatStrFormatter\n",
        "f, ax = plt.subplots(figsize=(15, 10))\n",
        "sns.barplot(grouped.index, grouped.values)\n",
        "ax.xaxis.set_major_formatter(FormatStrFormatter('%.0f'))\n",
        "plt.ylabel('Number of orders', fontsize=13)\n",
        "plt.xlabel('Period of reorder', fontsize=13)\n",
        "plt.show()\n"
      ]
    },
    {
      "cell_type": "markdown",
      "metadata": {
        "deletable": true,
        "editable": true
      },
      "source": [
        "People usually reorder either after 1 week or after 1 month.\n"
      ]
    },
    {
      "cell_type": "markdown",
      "metadata": {
        "deletable": true,
        "editable": true
      },
      "source": [
        "##Orders in the whole dataset\n"
      ]
    },
    {
      "cell_type": "markdown",
      "metadata": {
        "deletable": true,
        "editable": true
      },
      "source": [
        "Number and ratio  of orders from the three datasets (prior, train, test).\n"
      ]
    },
    {
      "cell_type": "code",
      "execution_count": 1,
      "metadata": {
        "collapsed": false,
        "deletable": true,
        "editable": true
      },
      "outputs": [],
      "source": [
        "grouped = orders.groupby(\"eval_set\")[\"order_id\"].aggregate({'Total_orders': 'count'}).reset_index()\n",
        "grouped['Ratio'] = grouped[\"Total_orders\"].apply(lambda x: x /grouped['Total_orders'].sum())\n",
        "grouped\n"
      ]
    },
    {
      "cell_type": "code",
      "execution_count": 1,
      "metadata": {
        "collapsed": false,
        "deletable": true,
        "editable": true
      },
      "outputs": [],
      "source": [
        "grouped  = grouped.groupby(['eval_set']).sum()['Total_orders'].sort_values(ascending=False)\n",
        "\n",
        "sns.set_style('whitegrid')\n",
        "f, ax = plt.subplots(figsize=(8, 8))\n",
        "sns.barplot(grouped.index, grouped.values, palette='coolwarm')\n",
        "plt.ylabel('Number of Orders', fontsize=13)\n",
        "plt.xlabel('datasets', fontsize=13)\n",
        "plt.show()\n"
      ]
    },
    {
      "cell_type": "markdown",
      "metadata": {
        "deletable": true,
        "editable": true
      },
      "source": [
        "##Customers in the whole dataset\n"
      ]
    },
    {
      "cell_type": "markdown",
      "metadata": {
        "deletable": true,
        "editable": true
      },
      "source": [
        "Let's check the total number of unique customers in the three datasets (prior, train, test).\n"
      ]
    },
    {
      "cell_type": "code",
      "execution_count": 1,
      "metadata": {
        "collapsed": false,
        "deletable": true,
        "editable": true
      },
      "outputs": [],
      "source": [
        "print(\"Number of unique customers in the whole dataset : \",len(set(orders.user_id)))\n"
      ]
    },
    {
      "cell_type": "code",
      "execution_count": 1,
      "metadata": {
        "collapsed": false,
        "deletable": true,
        "editable": true
      },
      "outputs": [],
      "source": [
        "grouped = orders.groupby(\"eval_set\")[\"user_id\"].apply(lambda x: len(x.unique()))\n",
        "\n",
        "plt.figure(figsize=(7,8))\n",
        "sns.barplot(grouped.index, grouped.values, palette='coolwarm')\n",
        "plt.ylabel('Number of users', fontsize=13)\n",
        "plt.xlabel('Eval set', fontsize=13)\n",
        "plt.title(\"Number of unique customers in each dataset\")\n",
        "plt.show()\n"
      ]
    },
    {
      "cell_type": "markdown",
      "metadata": {
        "deletable": true,
        "editable": true
      },
      "source": [
        "##Orders made by each customer\n"
      ]
    },
    {
      "cell_type": "markdown",
      "metadata": {
        "deletable": true,
        "editable": true
      },
      "source": [
        "Let's check the number of orders made by each costumer in the whole dataset.\n"
      ]
    },
    {
      "cell_type": "code",
      "execution_count": 1,
      "metadata": {
        "collapsed": false,
        "deletable": true,
        "editable": true
      },
      "outputs": [],
      "source": [
        "grouped = orders.groupby('user_id')['order_id'].apply(lambda x: len(x.unique())).reset_index()\n",
        "grouped = grouped.groupby('order_id').aggregate(\"count\")\n",
        "\n",
        "sns.set_style(\"whitegrid\")\n",
        "f, ax = plt.subplots(figsize=(15, 12))\n",
        "sns.barplot(grouped.index, grouped.user_id)\n",
        "plt.ylabel('Numbers of Customers')\n",
        "plt.xlabel('Number of Orders per customer')\n",
        "plt.xticks(rotation='vertical')\n",
        "plt.show()\n"
      ]
    },
    {
      "cell_type": "markdown",
      "metadata": {
        "deletable": true,
        "editable": true
      },
      "source": [
        "We can observe that most customers made  4 orders.\n"
      ]
    },
    {
      "cell_type": "markdown",
      "metadata": {
        "deletable": true,
        "editable": true
      },
      "source": [
        "Now let's explore the items datasets (products,  departments and aisles files.)\n"
      ]
    },
    {
      "cell_type": "code",
      "execution_count": 1,
      "metadata": {
        "collapsed": false,
        "deletable": true,
        "editable": true
      },
      "outputs": [],
      "source": [
        "#display first five rows of our dataset.\n",
        "products.head(5)\n"
      ]
    },
    {
      "cell_type": "code",
      "execution_count": 1,
      "metadata": {
        "collapsed": false,
        "deletable": true,
        "editable": true
      },
      "outputs": [],
      "source": [
        "#display first five rows of our dataset.\n",
        "departments.head(5)\n"
      ]
    },
    {
      "cell_type": "code",
      "execution_count": 1,
      "metadata": {
        "collapsed": false,
        "deletable": true,
        "editable": true
      },
      "outputs": [],
      "source": [
        "#display first five rows of our dataset.\n",
        "aisles.head(5)\n"
      ]
    },
    {
      "cell_type": "markdown",
      "metadata": {
        "deletable": true,
        "editable": true
      },
      "source": [
        "Now let's combine them in a single dataframe\n"
      ]
    },
    {
      "cell_type": "code",
      "execution_count": 1,
      "metadata": {
        "collapsed": false,
        "deletable": true,
        "editable": true
      },
      "outputs": [],
      "source": [
        "items  = pd.merge(left =pd.merge(left=products, right=departments, how='left'), right=aisles, how='left')\n",
        "items.head()\n"
      ]
    },
    {
      "cell_type": "markdown",
      "metadata": {
        "deletable": true,
        "editable": true
      },
      "source": [
        "##Most important Departments  (by number of products)\n"
      ]
    },
    {
      "cell_type": "code",
      "execution_count": 1,
      "metadata": {
        "collapsed": false,
        "deletable": true,
        "editable": true
      },
      "outputs": [],
      "source": [
        "grouped = items.groupby(\"department\")[\"product_id\"].aggregate({'Total_products': 'count'}).reset_index()\n",
        "grouped['Ratio'] = grouped[\"Total_products\"].apply(lambda x: x /grouped['Total_products'].sum())\n",
        "grouped.sort_values(by='Total_products', ascending=False, inplace=True)\n",
        "grouped\n"
      ]
    },
    {
      "cell_type": "code",
      "execution_count": 1,
      "metadata": {
        "collapsed": false,
        "deletable": true,
        "editable": true
      },
      "outputs": [],
      "source": [
        "grouped  = grouped.groupby(['department']).sum()['Total_products'].sort_values(ascending=False)\n",
        "\n",
        "sns.set_style(\"darkgrid\")\n",
        "f, ax = plt.subplots(figsize=(12, 15))\n",
        "plt.xticks(rotation='vertical')\n",
        "sns.barplot(grouped.index, grouped.values)\n",
        "plt.ylabel('Number of products', fontsize=13)\n",
        "plt.xlabel('Departments', fontsize=13)\n",
        "plt.show()\n"
      ]
    },
    {
      "cell_type": "markdown",
      "metadata": {
        "deletable": true,
        "editable": true
      },
      "source": [
        "##Most important Aisles in each Department (by number of Products)\n"
      ]
    },
    {
      "cell_type": "code",
      "execution_count": 1,
      "metadata": {
        "collapsed": false,
        "deletable": true,
        "editable": true
      },
      "outputs": [],
      "source": [
        "grouped = items.groupby([\"department\", \"aisle\"])[\"product_id\"].aggregate({'Total_products': 'count'}).reset_index()\n",
        "grouped.sort_values(by='Total_products', ascending=False, inplace=True)\n",
        "fig, axes = plt.subplots(7,3, figsize=(20,45), gridspec_kw =  dict(hspace=1.4))\n",
        "for (aisle, group), ax in zip(grouped.groupby([\"department\"]), axes.flatten()):\n",
        "    g = sns.barplot(group.aisle, group.Total_products , ax=ax)\n",
        "    ax.set(xlabel = \"Aisles\", ylabel=\" Number of products\")\n",
        "    g.set_xticklabels(labels = group.aisle,rotation=90, fontsize=12)\n",
        "    ax.set_title(aisle, fontsize=15)\n"
      ]
    },
    {
      "cell_type": "markdown",
      "metadata": {
        "deletable": true,
        "editable": true
      },
      "source": [
        "##Most important Aisles over all Departments (by number of Products)\n"
      ]
    },
    {
      "cell_type": "code",
      "execution_count": 1,
      "metadata": {
        "collapsed": false,
        "deletable": true,
        "editable": true
      },
      "outputs": [],
      "source": [
        "grouped = items.groupby(\"aisle\")[\"product_id\"].aggregate({'Total_products': 'count'}).reset_index()\n",
        "grouped['Ratio'] = grouped[\"Total_products\"].apply(lambda x: x /grouped['Total_products'].sum())\n",
        "grouped = grouped.sort_values(by='Total_products', ascending=False)[:20]\n",
        "grouped\n"
      ]
    },
    {
      "cell_type": "code",
      "execution_count": 1,
      "metadata": {
        "collapsed": false,
        "deletable": true,
        "editable": true
      },
      "outputs": [],
      "source": [
        "grouped  = grouped.groupby(['aisle']).sum()['Total_products'].sort_values(ascending=False)\n",
        "\n",
        "f, ax = plt.subplots(figsize=(12, 15))\n",
        "plt.xticks(rotation='vertical')\n",
        "sns.barplot(grouped.index, grouped.values)\n",
        "plt.ylabel('Number of products', fontsize=13)\n",
        "plt.xlabel('Aisles', fontsize=13)\n",
        "plt.show()\n"
      ]
    },
    {
      "cell_type": "markdown",
      "metadata": {
        "deletable": true,
        "editable": true
      },
      "source": [
        "\n**What are customers' favorite Departments and Aisles ?**\n"
      ]
    },
    {
      "cell_type": "code",
      "execution_count": 1,
      "metadata": {
        "collapsed": false,
        "deletable": true,
        "editable": true
      },
      "outputs": [],
      "source": [
        "\n",
        "users_flow = orders[['user_id', 'order_id']].merge(order_products_train[['order_id', 'product_id']],\n",
        "                                          how='inner', left_on='order_id', right_on='order_id')\n",
        "\n",
        "users_flow = users_flow.merge(items, how='inner', left_on='product_id',\n",
        "                                         right_on='product_id')\n"
      ]
    },
    {
      "cell_type": "markdown",
      "metadata": {
        "deletable": true,
        "editable": true
      },
      "source": [
        "##Best Selling Departments  (number of Orders)\n"
      ]
    },
    {
      "cell_type": "code",
      "execution_count": 1,
      "metadata": {
        "collapsed": false,
        "deletable": true,
        "editable": true
      },
      "outputs": [],
      "source": [
        "grouped = users_flow.groupby(\"department\")[\"order_id\"].aggregate({'Total_orders': 'count'}).reset_index()\n",
        "grouped['Ratio'] = grouped[\"Total_orders\"].apply(lambda x: x /grouped['Total_orders'].sum())\n",
        "grouped.sort_values(by='Total_orders', ascending=False, inplace=True)\n",
        "grouped\n"
      ]
    },
    {
      "cell_type": "code",
      "execution_count": 1,
      "metadata": {
        "collapsed": false,
        "deletable": true,
        "editable": true
      },
      "outputs": [],
      "source": [
        "grouped  = grouped.groupby(['department']).sum()['Total_orders'].sort_values(ascending=False)\n",
        "\n",
        "f, ax = plt.subplots(figsize=(12, 15))\n",
        "plt.xticks(rotation='vertical')\n",
        "sns.barplot(grouped.index, grouped.values)\n",
        "plt.ylabel('Number of Orders', fontsize=13)\n",
        "plt.xlabel('Departments', fontsize=13)\n",
        "plt.show()\n"
      ]
    },
    {
      "cell_type": "markdown",
      "metadata": {
        "deletable": true,
        "editable": true
      },
      "source": [
        "##Best Selling Aisles in each Department (number of Orders)\n"
      ]
    },
    {
      "cell_type": "code",
      "execution_count": 1,
      "metadata": {
        "collapsed": false,
        "deletable": true,
        "editable": true
      },
      "outputs": [],
      "source": [
        "grouped = users_flow.groupby([\"department\", \"aisle\"])[\"order_id\"].aggregate({'Total_orders': 'count'}).reset_index()\n",
        "grouped.sort_values(by='Total_orders', ascending=False, inplace=True)\n",
        "fig, axes = plt.subplots(7,3, figsize=(20,45), gridspec_kw =  dict(hspace=1.4))\n",
        "for (aisle, group), ax in zip(grouped.groupby([\"department\"]), axes.flatten()):\n",
        "    g = sns.barplot(group.aisle, group.Total_orders , ax=ax)\n",
        "    ax.set(xlabel = \"Aisles\", ylabel=\" Number of Orders\")\n",
        "    g.set_xticklabels(labels = group.aisle,rotation=90, fontsize=12)\n",
        "    ax.set_title(aisle, fontsize=15)\n"
      ]
    },
    {
      "cell_type": "markdown",
      "metadata": {
        "deletable": true,
        "editable": true
      },
      "source": [
        "##Best Selling Aisles  over all Departments.\n"
      ]
    },
    {
      "cell_type": "code",
      "execution_count": 1,
      "metadata": {
        "collapsed": false,
        "deletable": true,
        "editable": true
      },
      "outputs": [],
      "source": [
        "grouped = users_flow.groupby(\"aisle\")[\"order_id\"].aggregate({'Total_orders': 'count'}).reset_index()\n",
        "grouped['Ratio'] = grouped[\"Total_orders\"].apply(lambda x: x /grouped['Total_orders'].sum())\n",
        "grouped.sort_values(by='Total_orders', ascending=False, inplace=True )\n",
        "grouped.head(10)\n"
      ]
    },
    {
      "cell_type": "code",
      "execution_count": 1,
      "metadata": {
        "collapsed": false,
        "deletable": true,
        "editable": true
      },
      "outputs": [],
      "source": [
        "grouped  = grouped.groupby(['aisle']).sum()['Total_orders'].sort_values(ascending=False)[:15]\n",
        "\n",
        "f, ax = plt.subplots(figsize=(12, 15))\n",
        "plt.xticks(rotation='vertical')\n",
        "sns.barplot(grouped.index, grouped.values)\n",
        "plt.ylabel('Number of Orders', fontsize=13)\n",
        "plt.xlabel('Aisles', fontsize=13)\n",
        "plt.show()\n"
      ]
    },
    {
      "cell_type": "code",
      "execution_count": 1,
      "metadata": {
        "collapsed": false,
        "deletable": true,
        "editable": true
      },
      "outputs": [],
      "source": [
        "\n"
      ]
    }
  ],
  "metadata": {
    "kernelspec": {
      "display_name": "Python 3",
      "language": "python",
      "name": "python3"
    },
    "language_info": {
      "codemirror_mode": {
        "name": "ipython",
        "version": 3
      },
      "file_extension": ".py",
      "mimetype": "text/x-python",
      "name": "python",
      "nbconvert_exporter": "python",
      "pygments_lexer": "ipython3",
      "version": "3.6.0"
    }
  },
  "nbformat": 4,
  "nbformat_minor": 2
}